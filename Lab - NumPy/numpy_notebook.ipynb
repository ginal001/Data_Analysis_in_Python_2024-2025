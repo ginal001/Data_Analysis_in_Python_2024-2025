{
 "cells": [
  {
   "cell_type": "markdown",
   "id": "60b33a87",
   "metadata": {},
   "source": [
    "# Biblioteka NumPy\n",
    "\n",
    "NumPy to jedna z podstawowych bibliotek umożliwiających przeprowadzanie zaawansowanych obliczeń matematycznych w Pythonie, na przykład w celach naukowych. W szczególności została stworzona, aby umożliwić szybkie i sprawne przeprowadzanie obliczeń numerycznych, np. mnożenie i dodawanie macierzy, ich diagonalizację czy odwracanie. Zawiera bardzo wiele sprawdzonych implementacji operacji na macierzach. W nomenklaturze NumPy wektory, macierze i wielowymiarowe struktury to tablice (ang. *array*). Szacuje się, że operacje na tablicach NumPy są ok. 50-krotnie szybsze od operacji na standardowych listach/tablicach w Pythonie (zaobserwujemy to na przykładzie w trakcie dzisiejszych zajęć). Nazwa NumPy pochodzi od \"Numerical Python\".\n",
    "\n",
    "Dokumentacja biblioteki NumPy jest dostępna pod adresem https://numpy.org/doc/.\n",
    "\n",
    "Polecany materiał uzupełniający dla osób zainteresowanych dokładniejszym poznaniem biblioteki NumPy: [https://youtu.be/eClQWW_gbFk?si=uLgow5ZfKHlyrrut](https://youtu.be/eClQWW_gbFk?si=uLgow5ZfKHlyrrut).\n",
    "- Materiał jest w języku angielskim.\n",
    "- Zawiera ćwiczenia z przykładowymi rozwiązaniami i ich omówieniem. "
   ]
  },
  {
   "cell_type": "markdown",
   "id": "595ab0c3",
   "metadata": {},
   "source": [
    "## Instalacja oraz import biblioteki NumPy\n",
    "\n",
    "Instalujemy za pomocą komendy pip:"
   ]
  },
  {
   "cell_type": "code",
   "execution_count": 1,
   "id": "c305e5ce",
   "metadata": {},
   "outputs": [
    {
     "name": "stdout",
     "output_type": "stream",
     "text": [
      "Requirement already satisfied: numpy in c:\\users\\ginal\\.conda\\envs\\learning\\lib\\site-packages (1.26.4)\n"
     ]
    }
   ],
   "source": [
    "!pip install numpy"
   ]
  },
  {
   "cell_type": "markdown",
   "id": "9439076b",
   "metadata": {},
   "source": [
    "oraz importujemy za pomocą instrukcji"
   ]
  },
  {
   "cell_type": "code",
   "execution_count": 2,
   "id": "9f0725a6",
   "metadata": {
    "jupyter": {
     "is_executing": true
    }
   },
   "outputs": [],
   "source": [
    "import numpy as np"
   ]
  },
  {
   "cell_type": "markdown",
   "id": "84cd2baa-2fbe-4552-bce8-6fb4eb977839",
   "metadata": {},
   "source": [
    "i sprawdzamy jaką mamy zainstalowaną wersję"
   ]
  },
  {
   "cell_type": "code",
   "execution_count": 3,
   "id": "9bb359d6-ec8f-4406-bec1-d2f4839477aa",
   "metadata": {},
   "outputs": [
    {
     "name": "stdout",
     "output_type": "stream",
     "text": [
      "1.26.4\n"
     ]
    }
   ],
   "source": [
    "print(np.__version__)"
   ]
  },
  {
   "cell_type": "markdown",
   "id": "52b9341d",
   "metadata": {},
   "source": [
    "## Podstawowy typ danych - numpy.ndarray\n",
    "\n",
    "Podstawowym typem danych biblioteki NumPy jest [np.ndarray](https://numpy.org/doc/stable/reference/generated/numpy.ndarray.html) (od ang. *n-dimensional array*), czyli tablica wielowymiarowa."
   ]
  },
  {
   "cell_type": "markdown",
   "id": "f18227d3",
   "metadata": {},
   "source": [
    "### Tworzenie tablicy w NumPy"
   ]
  },
  {
   "cell_type": "markdown",
   "id": "efbf322f",
   "metadata": {},
   "source": [
    "Tablica [numpy.ndarray](https://numpy.org/doc/stable/reference/generated/numpy.ndarray.html) może być tworzona na różne sposoby:\n",
    "- z list albo krotek za pomocą funkcji [np.array()](https://numpy.org/doc/stable/reference/generated/numpy.array.html),\n",
    "- przy pomocy funkcji generujących, np. [np.arange()](https://numpy.org/doc/stable/reference/generated/numpy.arange.html), [np.linspace()](https://numpy.org/doc/stable/reference/generated/numpy.linspace.html),\n",
    "- wczytując dane z plików.\n",
    "\n",
    "Na przykładach zobaczymy jak tworzyć tablice typu `numpy.ndarray`."
   ]
  },
  {
   "cell_type": "markdown",
   "id": "81375cbb",
   "metadata": {},
   "source": [
    "#### Tworzenie tablicy 1-wymiarowej (wektora)"
   ]
  },
  {
   "cell_type": "code",
   "execution_count": 4,
   "id": "26f10ec2",
   "metadata": {},
   "outputs": [
    {
     "data": {
      "text/plain": [
       "array([ 4,  5,  7,  9, 13])"
      ]
     },
     "execution_count": 4,
     "metadata": {},
     "output_type": "execute_result"
    }
   ],
   "source": [
    "v = np.array([4,5,7,9,13])\n",
    "v"
   ]
  },
  {
   "cell_type": "markdown",
   "id": "e4c75094",
   "metadata": {},
   "source": [
    "**Uwaga:** Poniższa próba utworzenia tablicy nie zadziała:"
   ]
  },
  {
   "cell_type": "code",
   "execution_count": 6,
   "id": "6c71d3b6",
   "metadata": {},
   "outputs": [
    {
     "ename": "TypeError",
     "evalue": "array() takes from 1 to 2 positional arguments but 4 were given",
     "output_type": "error",
     "traceback": [
      "\u001b[1;31m---------------------------------------------------------------------------\u001b[0m",
      "\u001b[1;31mTypeError\u001b[0m                                 Traceback (most recent call last)",
      "Cell \u001b[1;32mIn[6], line 1\u001b[0m\n\u001b[1;32m----> 1\u001b[0m np\u001b[38;5;241m.\u001b[39marray(\u001b[38;5;241m1\u001b[39m, \u001b[38;5;241m2\u001b[39m, \u001b[38;5;241m3\u001b[39m, \u001b[38;5;241m4\u001b[39m)\n",
      "\u001b[1;31mTypeError\u001b[0m: array() takes from 1 to 2 positional arguments but 4 were given"
     ]
    }
   ],
   "source": [
    "np.array(1, 2, 3, 4)"
   ]
  },
  {
   "cell_type": "markdown",
   "id": "d34b6b5a",
   "metadata": {},
   "source": [
    "Zobaczmy, że rzeczywiście utworzyliśmy zmienną typu `np.ndarray`:"
   ]
  },
  {
   "cell_type": "code",
   "execution_count": 7,
   "id": "cca7e569",
   "metadata": {},
   "outputs": [
    {
     "name": "stdout",
     "output_type": "stream",
     "text": [
      "<class 'numpy.ndarray'>\n"
     ]
    }
   ],
   "source": [
    "print(type(v))"
   ]
  },
  {
   "cell_type": "markdown",
   "id": "68a12f78",
   "metadata": {},
   "source": [
    "O takiej tablicy możemy myśleć jako o wektorze\n",
    "\n",
    "\\begin{align}\n",
    "    v &= \\begin{bmatrix}\n",
    "           4 \\\\\n",
    "           5 \\\\\n",
    "           7 \\\\\n",
    "           9 \\\\\n",
    "           13\n",
    "         \\end{bmatrix}\n",
    "  \\end{align} "
   ]
  },
  {
   "cell_type": "markdown",
   "id": "e34fefc7",
   "metadata": {},
   "source": [
    "Tworzenie za pomocą funkcji [np.arange()](https://numpy.org/doc/stable/reference/generated/numpy.arange.html), gdzie kolejne parametry pozwalają określić zakres liczb wraz z odstępem liczbowym:"
   ]
  },
  {
   "cell_type": "code",
   "execution_count": 8,
   "id": "82204ae5",
   "metadata": {},
   "outputs": [
    {
     "data": {
      "text/plain": [
       "array([0, 1, 2, 3, 4, 5, 6, 7, 8, 9])"
      ]
     },
     "execution_count": 8,
     "metadata": {},
     "output_type": "execute_result"
    }
   ],
   "source": [
    "np.arange(10)"
   ]
  },
  {
   "cell_type": "code",
   "execution_count": 9,
   "id": "4611f38a",
   "metadata": {},
   "outputs": [
    {
     "data": {
      "text/plain": [
       "array([15, 17, 19, 21, 23, 25, 27, 29])"
      ]
     },
     "execution_count": 9,
     "metadata": {},
     "output_type": "execute_result"
    }
   ],
   "source": [
    "np.arange(start=15, stop=30, step=2)"
   ]
  },
  {
   "cell_type": "markdown",
   "id": "b1a022d2",
   "metadata": {},
   "source": [
    "Możemy też określić docelowy typ elementów:"
   ]
  },
  {
   "cell_type": "code",
   "execution_count": 10,
   "id": "e2a0d05a",
   "metadata": {},
   "outputs": [
    {
     "data": {
      "text/plain": [
       "array([4., 3., 2.], dtype=float32)"
      ]
     },
     "execution_count": 10,
     "metadata": {},
     "output_type": "execute_result"
    }
   ],
   "source": [
    "np.array([4, 3, 2], dtype=np.float32)"
   ]
  },
  {
   "cell_type": "markdown",
   "id": "74f32c37",
   "metadata": {},
   "source": [
    "**Uwaga:** Jak zwykle w Pythonie, prawy zakres jest otwarty z prawej strony:"
   ]
  },
  {
   "cell_type": "code",
   "execution_count": 11,
   "id": "7909374b",
   "metadata": {},
   "outputs": [
    {
     "data": {
      "text/plain": [
       "array([15, 17, 19, 21, 23, 25, 27])"
      ]
     },
     "execution_count": 11,
     "metadata": {},
     "output_type": "execute_result"
    }
   ],
   "source": [
    "np.arange(start=15, stop=29, step=2)"
   ]
  },
  {
   "cell_type": "code",
   "execution_count": 12,
   "id": "4fe2106f",
   "metadata": {},
   "outputs": [
    {
     "data": {
      "text/plain": [
       "array([29, 27, 25, 23, 21, 19, 17])"
      ]
     },
     "execution_count": 12,
     "metadata": {},
     "output_type": "execute_result"
    }
   ],
   "source": [
    "np.arange(start=29, stop=15, step=-2)"
   ]
  },
  {
   "cell_type": "markdown",
   "id": "8f59124b",
   "metadata": {},
   "source": [
    "I jeszcze tworzenie tablicy za pomocą funkcji [np.linspace()](https://numpy.org/doc/stable/reference/generated/numpy.linspace.html), gdzie kolejne parametry pozwalają określić końce zakresu liczbowego oraz liczbę elementów w wynikowej tablicy (parametr num). \n",
    "\n",
    "**Uwaga:** W tym przypadku zakres jest domknięty z lewej ale i z prawej strony! Wynikowa tablica będzie zawierała lewy i prawy koniec zakresu oraz num-2 liczb równo rozmieszczonych pomiędzy krańcami zakresu."
   ]
  },
  {
   "cell_type": "code",
   "execution_count": 13,
   "id": "aa13cc43",
   "metadata": {},
   "outputs": [
    {
     "data": {
      "text/plain": [
       "array([ 0.,  2.,  4.,  6.,  8., 10.])"
      ]
     },
     "execution_count": 13,
     "metadata": {},
     "output_type": "execute_result"
    }
   ],
   "source": [
    "np.linspace(start=0, stop=10, num=6)"
   ]
  },
  {
   "cell_type": "markdown",
   "id": "edc4fd9c",
   "metadata": {},
   "source": [
    "Korzystając z funkcji [np.zeros](https://numpy.org/doc/stable/reference/generated/numpy.zeros.html) możemy w prosty sposób utworzyć tablicę jednowymiarową zainicjalizowaną zerami o podanej liczbie elementów."
   ]
  },
  {
   "cell_type": "code",
   "execution_count": 14,
   "id": "49a37a75",
   "metadata": {},
   "outputs": [
    {
     "data": {
      "text/plain": [
       "array([0., 0., 0., 0., 0.])"
      ]
     },
     "execution_count": 14,
     "metadata": {},
     "output_type": "execute_result"
    }
   ],
   "source": [
    "np.zeros(5)"
   ]
  },
  {
   "cell_type": "markdown",
   "id": "1a7d4b95",
   "metadata": {},
   "source": [
    "Zera niekoniecznie muszą oznaczać liczbę 0. Zero jest pojmowane ogólnie, zależnie od typu elementów tablicy: "
   ]
  },
  {
   "cell_type": "code",
   "execution_count": 15,
   "id": "07a0c283",
   "metadata": {},
   "outputs": [
    {
     "data": {
      "text/plain": [
       "array(['', '', '', ''], dtype='<U1')"
      ]
     },
     "execution_count": 15,
     "metadata": {},
     "output_type": "execute_result"
    }
   ],
   "source": [
    "np.zeros(4, dtype='str')"
   ]
  },
  {
   "cell_type": "code",
   "execution_count": 16,
   "id": "ea713a50",
   "metadata": {},
   "outputs": [
    {
     "data": {
      "text/plain": [
       "array([False, False, False, False])"
      ]
     },
     "execution_count": 16,
     "metadata": {},
     "output_type": "execute_result"
    }
   ],
   "source": [
    "np.zeros(4, dtype='bool')"
   ]
  },
  {
   "cell_type": "markdown",
   "id": "171804a5",
   "metadata": {},
   "source": [
    "Istnieje też funkcja [np.ones](https://numpy.org/doc/stable/reference/generated/numpy.ones.html), która pozwala tworzyć tablice zainicjalizowane jedynkami:"
   ]
  },
  {
   "cell_type": "code",
   "execution_count": 17,
   "id": "fd77ab77",
   "metadata": {},
   "outputs": [
    {
     "data": {
      "text/plain": [
       "array([1., 1., 1., 1., 1.])"
      ]
     },
     "execution_count": 17,
     "metadata": {},
     "output_type": "execute_result"
    }
   ],
   "source": [
    "np.ones(5)"
   ]
  },
  {
   "cell_type": "code",
   "execution_count": 18,
   "id": "3ae8fd5b",
   "metadata": {},
   "outputs": [
    {
     "data": {
      "text/plain": [
       "array(['1', '1', '1', '1', '1'], dtype='<U1')"
      ]
     },
     "execution_count": 18,
     "metadata": {},
     "output_type": "execute_result"
    }
   ],
   "source": [
    "np.ones(5, dtype='str')"
   ]
  },
  {
   "cell_type": "markdown",
   "id": "a4b2678c",
   "metadata": {},
   "source": [
    "##### Różnice pomiędzy standardowymi listami w Pythonie a tablicami np.ndarray są następujące.\n",
    "\n",
    "Listy mogą zawierać elementy różnych typów:"
   ]
  },
  {
   "cell_type": "code",
   "execution_count": 19,
   "id": "078ecb21",
   "metadata": {},
   "outputs": [
    {
     "data": {
      "text/plain": [
       "[1, 3.4, 'Ala', ['ma', 'kota']]"
      ]
     },
     "execution_count": 19,
     "metadata": {},
     "output_type": "execute_result"
    }
   ],
   "source": [
    "[1, 3.4, 'Ala', ['ma', 'kota']]"
   ]
  },
  {
   "cell_type": "markdown",
   "id": "f47279d9",
   "metadata": {},
   "source": [
    "Elementy `np.ndarray` muszą być tego samego typu. Jeżeli nie są, funkcja `np.array` automatycznie \"uzgodni\" typy:"
   ]
  },
  {
   "cell_type": "code",
   "execution_count": 20,
   "id": "a6ec55ff",
   "metadata": {},
   "outputs": [
    {
     "data": {
      "text/plain": [
       "array(['1', 'ala', '3'], dtype='<U11')"
      ]
     },
     "execution_count": 20,
     "metadata": {},
     "output_type": "execute_result"
    }
   ],
   "source": [
    "np.array([1,'ala',3])"
   ]
  },
  {
   "cell_type": "code",
   "execution_count": 21,
   "id": "043e9a15",
   "metadata": {},
   "outputs": [
    {
     "data": {
      "text/plain": [
       "array([1.2, 1. , 5. ])"
      ]
     },
     "execution_count": 21,
     "metadata": {},
     "output_type": "execute_result"
    }
   ],
   "source": [
    "np.array((1.2, True, 5))"
   ]
  },
  {
   "cell_type": "markdown",
   "id": "96b8b755",
   "metadata": {},
   "source": [
    "Na tablicach możemy przeprowadzać typowe operacje matematyczne na poszczególnych elementach tablicy, tj. element po elemencie, przy użyciu jednego operatora lub funkcji bez pisania jakichkolwiek pętli (ang. *element-wise operations*):"
   ]
  },
  {
   "cell_type": "code",
   "execution_count": 22,
   "id": "32477279",
   "metadata": {},
   "outputs": [
    {
     "data": {
      "text/plain": [
       "array([1.33333333, 1.66666667, 2.33333333, 3.        , 4.33333333])"
      ]
     },
     "execution_count": 22,
     "metadata": {},
     "output_type": "execute_result"
    }
   ],
   "source": [
    "v/3"
   ]
  },
  {
   "cell_type": "code",
   "execution_count": null,
   "id": "0c87b63e",
   "metadata": {},
   "outputs": [],
   "source": [
    "np.sin(v)"
   ]
  },
  {
   "cell_type": "markdown",
   "id": "97e6e2fb",
   "metadata": {},
   "source": [
    "Nie mamy takiej możliwości w przypadku standardowych list w Pythonie:"
   ]
  },
  {
   "cell_type": "code",
   "execution_count": null,
   "id": "c2aaef6e",
   "metadata": {},
   "outputs": [],
   "source": [
    "[4,5,7,9,13]/3"
   ]
  },
  {
   "cell_type": "markdown",
   "id": "dad31427",
   "metadata": {},
   "source": [
    "Dla list musimy użyć pętli, na przykład"
   ]
  },
  {
   "cell_type": "code",
   "execution_count": null,
   "id": "52c34764",
   "metadata": {},
   "outputs": [],
   "source": [
    "[x/3 for x in [4,5,7,9,13]]"
   ]
  },
  {
   "cell_type": "markdown",
   "id": "66f71b80",
   "metadata": {},
   "source": [
    "Inne różnice są związane w wymaganiami pamięciowymi. \n",
    " - Po pierwsze, ze względu na konieczność przechowywania informacji o typie poszczególnych elementów, listy zajmują więcej miejsca w pamięci. \n",
    " - Po drugie, elementy listy nie muszą być przechowywane w sposób ciągły w pamięci w odróżnieniu od elementów tablic `np.ndarray`."
   ]
  },
  {
   "cell_type": "markdown",
   "id": "734bd584",
   "metadata": {},
   "source": [
    "#### Tworzenie tablicy wielowymiarowej"
   ]
  },
  {
   "cell_type": "markdown",
   "id": "97f46bb9",
   "metadata": {},
   "source": [
    "Tablicę wielowymiarową (np. reprezentującą macierz) możemy utworzyć za pomocą funkcji `np.array` z argumentem będącym zagnieżdżoną listą, tzn. listą, której elementami są inne listy:"
   ]
  },
  {
   "cell_type": "code",
   "execution_count": null,
   "id": "5b2dd4eb",
   "metadata": {},
   "outputs": [],
   "source": [
    "M = np.array([[1,2.0,3],[4,5,6]])\n",
    "M"
   ]
  },
  {
   "cell_type": "markdown",
   "id": "faedcc34",
   "metadata": {},
   "source": [
    "Zwróćmy uwagę jakiego typu są elementy tablicy M w powyższym przykładzie - wszystkie liczby są typu np.float64.\n",
    "\n",
    "Jeszcze jeden przykład:"
   ]
  },
  {
   "cell_type": "code",
   "execution_count": null,
   "id": "da89cd52",
   "metadata": {},
   "outputs": [],
   "source": [
    "np.array([[1, 2], [3, 4]], dtype=complex)"
   ]
  },
  {
   "cell_type": "markdown",
   "id": "16d75b84",
   "metadata": {},
   "source": [
    "Spróbujmy utworzyć tablicę 3-wymiarową:"
   ]
  },
  {
   "cell_type": "code",
   "execution_count": null,
   "id": "d6323346",
   "metadata": {},
   "outputs": [],
   "source": [
    "M3D = np.array([[[1,2.0,3],[-8,-4,-2]],[[4,5,6],[9,-2,1.0]]])\n",
    "print(M3D)"
   ]
  },
  {
   "cell_type": "markdown",
   "id": "af6b25e7",
   "metadata": {},
   "source": [
    "Oczywiście musimy zwrócić uwagę na zgodność liczby elementów dla poszczególnych wymiarów. W przeciwnym przypadku pojawi się komunikat o błędzie."
   ]
  },
  {
   "cell_type": "code",
   "execution_count": null,
   "id": "8f41b824",
   "metadata": {},
   "outputs": [],
   "source": [
    "print(f\"NumPy version: {np.version.version}\") # Inny niż powyżej sposób wypisania informacji o zainstalowanej wersji NumPy \n",
    "np.array([[[1,2.0],[-8,-4,-2]],[[4,5,6],[9,-2,1.0]]])"
   ]
  },
  {
   "cell_type": "markdown",
   "id": "eda95bc4-2d01-4f9a-82c8-a4189922d8b0",
   "metadata": {},
   "source": [
    "**Uwaga:** W przypadku starszych wersji NumPy, np. w wersji 1.23.5, nie pojawia się komunikat o błędzie, ale wynik takiego tworzenia tablicy jest nieco zaskakujący, tzn. elementami tablicy są listy:\n",
    "\n",
    "array([[list([1, 2.0]), list([-8, -4, -2])],[list([4, 5, 6]), list([9, -2, 1.0])]], dtype=object))"
   ]
  },
  {
   "cell_type": "markdown",
   "id": "600204a0",
   "metadata": {},
   "source": [
    "### Atrybuty obiektów NumPy ndarray"
   ]
  },
  {
   "cell_type": "markdown",
   "id": "a307ab79",
   "metadata": {},
   "source": [
    "[ndarray.ndim](https://numpy.org/doc/stable/reference/generated/numpy.ndarray.ndim.html): zwraca liczbę całkowitą dodatnią określającą liczbę wymiarów tablicy. \n",
    "\n",
    "Uwaga: W terminologii NumPy wymiary określa się mianem \"osi\" (ang. *axes*). Mówimy, że tablica 2-wymiarowa ma dwie osie. Wymiar odpowiadający wierszom macierzy to oś 0 zaś kolumnom to oś 1. "
   ]
  },
  {
   "cell_type": "code",
   "execution_count": null,
   "id": "11c80720",
   "metadata": {},
   "outputs": [],
   "source": [
    "print(f\"Liczba wymiarów tablicy v: {v.ndim}\")\n",
    "print(f\"Liczba wymiarów tablicy M: {M.ndim}\")\n",
    "print(f\"Liczba wymiarów tablicy M3D: {M3D.ndim}\")"
   ]
  },
  {
   "cell_type": "markdown",
   "id": "ea83affd",
   "metadata": {},
   "source": [
    "Kształt tablicy NumPy opisuje krotka liczb całkowitych dodatnich, określająca zakres wartości indeksów dla poszczególnych wymiarów (osi). Krotka ta dana jest przez atrybut [ndarray.shape](https://numpy.org/doc/stable/reference/generated/numpy.ndarray.shape.html):"
   ]
  },
  {
   "cell_type": "code",
   "execution_count": null,
   "id": "78a1cf2a",
   "metadata": {},
   "outputs": [],
   "source": [
    "print(v.shape)\n",
    "print(M.shape)\n",
    "print(M3D.shape)"
   ]
  },
  {
   "cell_type": "markdown",
   "id": "36e0d8d2",
   "metadata": {},
   "source": [
    "Korzystając z możliwości określania kszałtu tablicy, możemy tworzyć tablice o zadanym kszatłcie w jeszcze jeden sposób:"
   ]
  },
  {
   "cell_type": "code",
   "execution_count": null,
   "id": "dea90f1b",
   "metadata": {},
   "outputs": [],
   "source": [
    "np.zeros((2,4))"
   ]
  },
  {
   "cell_type": "code",
   "execution_count": null,
   "id": "15ecdcdc",
   "metadata": {},
   "outputs": [],
   "source": [
    "np.ones((3,2,4)) * 4"
   ]
  },
  {
   "cell_type": "markdown",
   "id": "c26937c7",
   "metadata": {},
   "source": [
    "Możemy też utworzyć tablicę o zadanym kształcie zainicjalizowaną losowymi liczbami z rozkładu standardowego, tj. normalnego o wartości oczekiwanej 0 i wariancji 1, N(0,1):"
   ]
  },
  {
   "cell_type": "code",
   "execution_count": null,
   "id": "49eec9bc",
   "metadata": {},
   "outputs": [],
   "source": [
    "np.random.standard_normal((2,4,5))"
   ]
  },
  {
   "cell_type": "markdown",
   "id": "f7544572",
   "metadata": {},
   "source": [
    "Wartość atrybutu [ndarray.size](https://numpy.org/doc/stable/reference/generated/numpy.ndarray.size.html) określa liczbę elementów tablicy będącą iloczynem zakresu indeksów dla poszczególnych wymiarów:"
   ]
  },
  {
   "cell_type": "code",
   "execution_count": null,
   "id": "b25bfa4e",
   "metadata": {},
   "outputs": [],
   "source": [
    "print(v.size)\n",
    "print(M.size)\n",
    "print(M3D.size)"
   ]
  },
  {
   "cell_type": "markdown",
   "id": "d35a8c88",
   "metadata": {},
   "source": [
    "Atrybut [ndarray.dtype](https://numpy.org/doc/stable/reference/generated/numpy.ndarray.dtype.html) określa typ elementów w tablicy. Jak wcześniej zostało wspomniane, wszystkie elementy tablicy muszą być tego samego typu. "
   ]
  },
  {
   "cell_type": "code",
   "execution_count": null,
   "id": "6257d87e",
   "metadata": {},
   "outputs": [],
   "source": [
    "M.dtype"
   ]
  },
  {
   "cell_type": "markdown",
   "id": "fd8c9a83",
   "metadata": {},
   "source": [
    "Atrybut [ndarray.itemsize](https://numpy.org/doc/stable/reference/generated/numpy.ndarray.itemsize.html) określa rozmiar elementu tablicy w bajtach. "
   ]
  },
  {
   "cell_type": "code",
   "execution_count": null,
   "id": "f177ba5c",
   "metadata": {},
   "outputs": [],
   "source": [
    "M.itemsize"
   ]
  },
  {
   "cell_type": "markdown",
   "id": "16793ef2",
   "metadata": {},
   "source": [
    "### Dostęp do elementów tablicy: indeksowanie i slicing\n",
    "\n",
    "Dostęp do elementów jest możliwy poprzez użycie notacji indeksowej (tablica[i]) jak i wycinkowej (tablica[i:j])"
   ]
  },
  {
   "cell_type": "code",
   "execution_count": null,
   "id": "a15d75e9",
   "metadata": {},
   "outputs": [],
   "source": [
    "M[1,2]"
   ]
  },
  {
   "cell_type": "code",
   "execution_count": null,
   "id": "482a68c7",
   "metadata": {},
   "outputs": [],
   "source": [
    "M[1][2]"
   ]
  },
  {
   "cell_type": "markdown",
   "id": "20558441",
   "metadata": {},
   "source": [
    "#### Tworzenie podtablic poprzez \"wycinanie\" (ang. *slicing*).\n",
    "\n",
    "Oto kilka przykładów:"
   ]
  },
  {
   "cell_type": "code",
   "execution_count": null,
   "id": "93b0df5d",
   "metadata": {},
   "outputs": [],
   "source": [
    "A = np.array([[ -7, 0, 10, 20],\n",
    "              [ -5, 1, 40, 200],\n",
    "              [ -1, 1, 4, 30]])\n",
    "\n",
    "A[1:,1:3]"
   ]
  },
  {
   "cell_type": "markdown",
   "id": "ca87a2bf",
   "metadata": {},
   "source": [
    "Podtablica składająca się z tablicy A bez pierwszej kolumny:"
   ]
  },
  {
   "cell_type": "code",
   "execution_count": null,
   "id": "7815717d",
   "metadata": {},
   "outputs": [],
   "source": [
    "A[:,1:]"
   ]
  },
  {
   "cell_type": "markdown",
   "id": "56693c9b",
   "metadata": {},
   "source": [
    "Podtablica składająca się z drugiej kolumny tablicy A:"
   ]
  },
  {
   "cell_type": "code",
   "execution_count": null,
   "id": "29b7fa7e",
   "metadata": {},
   "outputs": [],
   "source": [
    "A[:,1]"
   ]
  },
  {
   "cell_type": "markdown",
   "id": "c39feb95",
   "metadata": {},
   "source": [
    "A co się stało z kształtem wynikowej tablicy?"
   ]
  },
  {
   "cell_type": "code",
   "execution_count": null,
   "id": "3bef3346",
   "metadata": {},
   "outputs": [],
   "source": [
    "print(A.shape)\n",
    "print(A[:,1].shape)"
   ]
  },
  {
   "cell_type": "markdown",
   "id": "cc4a9491",
   "metadata": {},
   "source": [
    "Ograniczenie się do pojedynczego punktu w danym wymiarze, powoduje degenerację tego wymiaru. Uzyskuje się tablicę, w której liczba wymiarów jest mniejsza o jeden.\n",
    "\n",
    "Jeżeli zależałoby nam na zachowaniu liczby wymiarów, możemy zrobić to tak:"
   ]
  },
  {
   "cell_type": "code",
   "execution_count": null,
   "id": "cf2a836f",
   "metadata": {},
   "outputs": [],
   "source": [
    "A[:,1:2]"
   ]
  },
  {
   "cell_type": "code",
   "execution_count": null,
   "id": "baa03182",
   "metadata": {},
   "outputs": [],
   "source": [
    "A[:,1:2].shape"
   ]
  },
  {
   "cell_type": "markdown",
   "id": "3dcd769d",
   "metadata": {},
   "source": [
    "Można też wybrać co któryś element z tablicy jednowymiarowej:"
   ]
  },
  {
   "cell_type": "code",
   "execution_count": null,
   "id": "56eb84e2",
   "metadata": {},
   "outputs": [],
   "source": [
    "a = np.arange(12)**3\n",
    "print(a)\n",
    "a[:6:2]"
   ]
  },
  {
   "cell_type": "markdown",
   "id": "9ae1a13c",
   "metadata": {},
   "source": [
    "Lub podmienić:"
   ]
  },
  {
   "cell_type": "code",
   "execution_count": null,
   "id": "136e9afc",
   "metadata": {},
   "outputs": [],
   "source": [
    "a[:6:2] = -10\n",
    "a"
   ]
  },
  {
   "cell_type": "markdown",
   "id": "60e0965a",
   "metadata": {},
   "source": [
    "Podobnie w przypadku tablicy wielowymiarowej:"
   ]
  },
  {
   "cell_type": "code",
   "execution_count": null,
   "id": "f049d5a7",
   "metadata": {},
   "outputs": [],
   "source": [
    "A = np.array(range(0,8*9)).reshape((8,9)) # Metoda reshape pozwala zmienić kształt tablicy na podany; za chwilę omówimy ją dokładniej\n",
    "A"
   ]
  },
  {
   "cell_type": "code",
   "execution_count": null,
   "id": "c31e729d",
   "metadata": {},
   "outputs": [],
   "source": [
    "A[2:7:2,2::3]"
   ]
  },
  {
   "cell_type": "code",
   "execution_count": null,
   "id": "6ac30ffb",
   "metadata": {},
   "outputs": [],
   "source": [
    "A[2:7:2,2::3] = -13\n",
    "A"
   ]
  },
  {
   "cell_type": "markdown",
   "id": "582bdcbe",
   "metadata": {},
   "source": [
    "\"Wycięcia\" ostatniej kolumny możemy dokonać w ten sposób:"
   ]
  },
  {
   "cell_type": "code",
   "execution_count": null,
   "id": "93e4e5f3",
   "metadata": {},
   "outputs": [],
   "source": [
    "M[:,2:3]"
   ]
  },
  {
   "cell_type": "markdown",
   "id": "648d570d",
   "metadata": {},
   "source": [
    "W prosty sposób możemy odwrócić tablicę:"
   ]
  },
  {
   "cell_type": "code",
   "execution_count": null,
   "id": "2bc9b2df",
   "metadata": {},
   "outputs": [],
   "source": [
    "a = np.array([2,4,7,9,10,13])\n",
    "a[::-1]"
   ]
  },
  {
   "cell_type": "markdown",
   "id": "bfdc0db7",
   "metadata": {},
   "source": [
    "### Indeksowanie tablic tablicami"
   ]
  },
  {
   "cell_type": "markdown",
   "id": "ba378395",
   "metadata": {},
   "source": [
    "Do wybrania elementów z tablicy można użyć innej tablicy. W tym celu można użyć:\n",
    "- tablicy/listy indeksów - wybieramy z tablicy te elementy, które uzyskalibyśmy indeksując każdym z indeksów z osobna;\n",
    "- tablicy wartości logicznych (boolean) rozmiaru tablicy z danymi. Wybieramy te elementy, którym odpowiada wartość True w macierzy indeksującej.\n",
    "\n",
    "**Uwaga:** Wynikiem jest tablica 1-wymiarowa. "
   ]
  },
  {
   "cell_type": "code",
   "execution_count": null,
   "id": "9ecc90ad",
   "metadata": {},
   "outputs": [],
   "source": [
    "v[[1,3,4]]"
   ]
  },
  {
   "cell_type": "code",
   "execution_count": null,
   "id": "a6c77ca5",
   "metadata": {},
   "outputs": [],
   "source": [
    "M % 2 == 0"
   ]
  },
  {
   "cell_type": "code",
   "execution_count": null,
   "id": "d4a14cbe",
   "metadata": {},
   "outputs": [],
   "source": [
    "M[M % 2 == 0]"
   ]
  },
  {
   "cell_type": "markdown",
   "id": "40c53903",
   "metadata": {},
   "source": [
    "### Zmienianie kształtu tablicy\n",
    "\n",
    "Możemy zmieniać kształt tablicy za pomocą metody np.ndarray.reshape(). Zmiana kształtu musi jednak zachowywać całkowitą liczbę elementów tablicy, w przeciwnym wypadku zgłaszany jest błąd."
   ]
  },
  {
   "cell_type": "code",
   "execution_count": null,
   "id": "6881301b",
   "metadata": {},
   "outputs": [],
   "source": [
    "t = np.arange(10,22)\n",
    "t"
   ]
  },
  {
   "cell_type": "code",
   "execution_count": null,
   "id": "255e737b",
   "metadata": {},
   "outputs": [],
   "source": [
    "t.reshape(3,4)"
   ]
  },
  {
   "cell_type": "code",
   "execution_count": null,
   "id": "2dc8adbf",
   "metadata": {},
   "outputs": [],
   "source": [
    "np.arange(24).reshape(2, 3, 4)"
   ]
  },
  {
   "cell_type": "markdown",
   "id": "9e9f66e4",
   "metadata": {},
   "source": [
    "## Ćwiczenie 1\n",
    "\n",
    "Utwórz macierz M o wymiarach 1000x1000 o elementach A[i,j] == 2 * i - 1 * j. "
   ]
  },
  {
   "cell_type": "code",
   "execution_count": null,
   "id": "e1d100ad",
   "metadata": {},
   "outputs": [],
   "source": [
    "# Miejsce na rozwiązanie\n"
   ]
  },
  {
   "cell_type": "markdown",
   "id": "44f5fe60",
   "metadata": {},
   "source": [
    "Za pomocą metody [np.ndarray.flatten](https://numpy.org/doc/stable/reference/generated/numpy.ndarray.flatten.html) możemy tablicę n-wymiarową zmienić/\"spłaszczyć\" w tablicę 1-wymiarową:"
   ]
  },
  {
   "cell_type": "code",
   "execution_count": null,
   "id": "982382b0",
   "metadata": {},
   "outputs": [],
   "source": [
    "t = np.random.standard_normal((4,3))\n",
    "t"
   ]
  },
  {
   "cell_type": "markdown",
   "id": "73c2089d",
   "metadata": {},
   "source": [
    "Spłaszczanie wierszami:"
   ]
  },
  {
   "cell_type": "code",
   "execution_count": null,
   "id": "4221cbfb",
   "metadata": {},
   "outputs": [],
   "source": [
    "t.flatten(order='C')"
   ]
  },
  {
   "cell_type": "markdown",
   "id": "e96120dd",
   "metadata": {},
   "source": [
    "Uwaga: Dlaczego order = 'C'? Mogłoby się wydawać, że C jest skrótem od \"column\" i się pomyliliśmy. Jednak wszystko jest dobrze; C oznacza \"flatten in row-major (C-style) order\".\n",
    "\n",
    "Spłaszczanie kolumnami:"
   ]
  },
  {
   "cell_type": "code",
   "execution_count": null,
   "id": "b419a493",
   "metadata": {},
   "outputs": [],
   "source": [
    "t.flatten(order='F')"
   ]
  },
  {
   "cell_type": "markdown",
   "id": "d6e43631-d8fc-4579-b3b7-cbe020615253",
   "metadata": {},
   "source": [
    "F oznacza \"flatten in column-major (Fortran- style) order\"."
   ]
  },
  {
   "cell_type": "markdown",
   "id": "8a8f5f67",
   "metadata": {},
   "source": [
    "Transponowanie tablicy"
   ]
  },
  {
   "cell_type": "code",
   "execution_count": null,
   "id": "4fd8f2a6",
   "metadata": {},
   "outputs": [],
   "source": [
    "a = np.array([2,3,4,5,6,7]).reshape((2,3))\n",
    "print(a)\n",
    "a.T"
   ]
  },
  {
   "cell_type": "markdown",
   "id": "6856323e",
   "metadata": {},
   "source": [
    "**Uwaga:** transponowanie nie tworzy nowej tablicy!"
   ]
  },
  {
   "cell_type": "code",
   "execution_count": null,
   "id": "2bb05bd3",
   "metadata": {},
   "outputs": [],
   "source": [
    "b = a.T\n",
    "b[1,1] = -5\n",
    "print(a)"
   ]
  },
  {
   "cell_type": "markdown",
   "id": "34eb4d40",
   "metadata": {},
   "source": [
    "## Broadcasting i wektoryzacja na przykładzie arytmetyki w NumPy"
   ]
  },
  {
   "cell_type": "markdown",
   "id": "a6d0223a",
   "metadata": {},
   "source": [
    "Zacznijmy od przykładu dodawania tablic:"
   ]
  },
  {
   "cell_type": "code",
   "execution_count": null,
   "id": "858e9821",
   "metadata": {},
   "outputs": [],
   "source": [
    "a = np.array([[1, 2, 3],\n",
    "              [4, 5, 6]])\n",
    "b = np.array([[4, 3, 9],\n",
    "              [5, 2, 1]])\n",
    "print(a + b)"
   ]
  },
  {
   "cell_type": "markdown",
   "id": "f0cc76f1",
   "metadata": {},
   "source": [
    "Powyższe dodawanie jest wykonywane element po elemencie. Odpowiada ono dodawaniu macierzy. \n",
    "\n",
    "No to teraz spróbujmy pomnożyć dwie tablice:"
   ]
  },
  {
   "cell_type": "code",
   "execution_count": null,
   "id": "f5af6a2c",
   "metadata": {},
   "outputs": [],
   "source": [
    "a * b"
   ]
  },
  {
   "cell_type": "markdown",
   "id": "fc79ecce",
   "metadata": {},
   "source": [
    "Ewidentnie nie odpowiada ono mnożeniu macierzy. Jest to po prostu wymnażanie odpowiadających sobie elementów. \n",
    "\n",
    "Jeżeli chcemy wymnożyć tablice zgodnie z definicją mnożenia macierzy, korzystamy z funkcji [numpy.matmul](https://numpy.org/doc/stable/reference/generated/numpy.matmul.html):"
   ]
  },
  {
   "cell_type": "code",
   "execution_count": null,
   "id": "7b4406f3",
   "metadata": {},
   "outputs": [],
   "source": [
    "A = np.array([[3,2,6],[7,2,1]])\n",
    "B = np.array([[2,3],[1,4],[3,2]])\n",
    "print(A)\n",
    "print('x')\n",
    "print(B)\n",
    "print(\"=\")\n",
    "print(np.matmul(A,B))"
   ]
  },
  {
   "cell_type": "markdown",
   "id": "8cc3ad68",
   "metadata": {},
   "source": [
    "Można też tak:"
   ]
  },
  {
   "cell_type": "code",
   "execution_count": null,
   "id": "f5bad417",
   "metadata": {},
   "outputs": [],
   "source": [
    "A @ B"
   ]
  },
  {
   "cell_type": "markdown",
   "id": "73a752c6",
   "metadata": {},
   "source": [
    "lub tak:"
   ]
  },
  {
   "cell_type": "code",
   "execution_count": null,
   "id": "a2292485",
   "metadata": {},
   "outputs": [],
   "source": [
    "A.dot(B)"
   ]
  },
  {
   "cell_type": "markdown",
   "id": "d9ffe61c",
   "metadata": {},
   "source": [
    "Tablicę można pomnożyć przez liczbę (odpowiada mnożeniu macierzy przez skalar):"
   ]
  },
  {
   "cell_type": "code",
   "execution_count": null,
   "id": "95018160",
   "metadata": {},
   "outputs": [],
   "source": [
    "M = np.array(range(1,11)).reshape((2,5))\n",
    "print(M)\n",
    "M * 3"
   ]
  },
  {
   "cell_type": "markdown",
   "id": "6bdf54ec",
   "metadata": {},
   "source": [
    "W przypadku macierzy znanych nam z wykładu algebry liniowej możemy dodawać i odejmować macierze o takich samych wymiarach lub możemy mnożyć macierz przez skalar. Nie mamy jednak zdefiniowanych operacji odejmowania skalaru od macierzy.\n",
    "\n",
    "W przypadku tablic NumPy jest inaczej. Od tablicy możemy odjąć liczbę (skalar) lub od liczby (skalaru) odjąć tablicę:"
   ]
  },
  {
   "cell_type": "code",
   "execution_count": null,
   "id": "6fab0fc1",
   "metadata": {},
   "outputs": [],
   "source": [
    "M - 5"
   ]
  },
  {
   "cell_type": "code",
   "execution_count": null,
   "id": "2ee51ebc",
   "metadata": {},
   "outputs": [],
   "source": [
    "5 - M"
   ]
  },
  {
   "cell_type": "markdown",
   "id": "5da95657",
   "metadata": {},
   "source": [
    "Aby ułatwić i znacznie przyspieszyć operacje arytmetyczne na danych ujętych w tablicach NumPy, podstawowe operacje zostały w NumPy rozszerzone tak, aby można było je wykonywać element po elemencie. Jest to możliwe dzięki dwóm mechanizmom: broadcasting'u (ang. *[broadcasting](https://numpy.org/doc/stable/user/basics.broadcasting.html)*) i wektoryzacji (ang. *vectorization*)."
   ]
  },
  {
   "cell_type": "markdown",
   "id": "52421f5e",
   "metadata": {},
   "source": [
    "Możemy wykonywać operacje element po elemencie na dwóch tablicach o różnej liczbie wymiarów:"
   ]
  },
  {
   "cell_type": "code",
   "execution_count": null,
   "id": "5c374e98",
   "metadata": {},
   "outputs": [],
   "source": [
    "a = np.array([[ 0.0,  0.0,  0.0],\n",
    "              [10.0, 10.0, 10.0],\n",
    "              [20.0, 20.0, 20.0],\n",
    "              [30.0, 30.0, 30.0]])\n",
    "\n",
    "b = np.array([1.0, 2.0, 3.0])\n",
    "\n",
    "a + b"
   ]
  },
  {
   "cell_type": "markdown",
   "id": "8ab4d2ef",
   "metadata": {},
   "source": [
    "Umożliwił to mechanizm braodcasting'u. Ale to już nie zadziała:"
   ]
  },
  {
   "cell_type": "code",
   "execution_count": null,
   "id": "b889a13d",
   "metadata": {},
   "outputs": [],
   "source": [
    "a = np.array([[  1.,   2.,   3.],\n",
    "              [11.,  12.,  13.],\n",
    "              [21.,  22.,  23.],\n",
    "              [31.,  32.,  33.]])\n",
    "\n",
    "b = np.array([1.0, 2.0, 3.0, 4.0])\n",
    "\n",
    "a + b"
   ]
  },
  {
   "attachments": {
    "broadcasting_2.png": {
     "image/png": "[encoded data removed]"
    }
   },
   "cell_type": "markdown",
   "id": "70e29248",
   "metadata": {},
   "source": [
    "Przed wykonaniem działania na dwóch tablicach, NumPy porównuje rozmiary poszczególnych wymiarów **zaczynając od prawej strony**.\n",
    "Przy porównywaniu, rozmiary wymiaru są uznawane za kompatybilne, gdy są równe bądź gdy któryś z rozmiarów wynosi 1. Jeżeli żaden z tych warunków nie jest spełniony, zgłaszany jest błąd \"ValueError: operands could not be broadcast together\". \n",
    "\n",
    "Tablice nie muszą mieć takiej samej liczby wymiarów. Zakłada się, że brakujące wymiary mają rozmiar 1. Tablica wynikowa będzie miała liczbę wymiarów równą większej liczbie wymiarów spośród obu tablic wejściowych a rozmiar każdego wymiaru będzie równy większemu rozmiarowy odpowiedniego wymiaru obu tablic wejściowych. Kilka przykładów:\n",
    "\n",
    "<code>\n",
    "A     (2d): 4 x 3\n",
    "B     (1d):     3\n",
    "Wynik (2d): 4 x 3\n",
    "</code>\n",
    "\n",
    "Na rysunku można przedstawić to tak\n",
    "\n",
    "![broadcasting_2.png](attachment:broadcasting_2.png)\n",
    "\n",
    "<code>\n",
    "A     (3d): 256 x 256 x 3\n",
    "B     (1d):             3\n",
    "Wynik (3d): 256 x 256 x 3\n",
    "</code>\n",
    "\n",
    "<code>\n",
    "A     (4d): 8 x 1 x 6 x 1\n",
    "B     (3d):     7 x 1 x 5\n",
    "Wynik (4d): 8 x 7 x 6 x 5\n",
    "</code>\n",
    "\n",
    "\n",
    "\n",
    "W poprzednim przykładzie mieliśmy następującą sytuację:\n",
    "\n",
    "<code>\n",
    "a (2d): 4 x 3\n",
    "b (1d): 1 x 4  \n",
    "</code>\n",
    "\n",
    "Widzimy, że rozmiary wymiaru pierwszego od prawej strony nie są kompatybilne. Ale to już zadziała:"
   ]
  },
  {
   "cell_type": "code",
   "execution_count": null,
   "id": "614a4556",
   "metadata": {},
   "outputs": [],
   "source": [
    "a.T * b "
   ]
  },
  {
   "cell_type": "markdown",
   "id": "567b9add",
   "metadata": {},
   "source": [
    "Więcej o mechanizmie broadcastingu można poczytać np. [tutaj](https://numpy.org/doc/stable/user/basics.broadcasting.html#basics-broadcasting)."
   ]
  },
  {
   "cell_type": "markdown",
   "id": "908ff308",
   "metadata": {},
   "source": [
    "Wróćmy jeszcze do przykładu mnożenia dwóch tablic o tych samych wymiarach:"
   ]
  },
  {
   "cell_type": "code",
   "execution_count": null,
   "id": "b12d974e",
   "metadata": {},
   "outputs": [],
   "source": [
    "a = np.array([[1, 2, 3],\n",
    "              [4, 5, 6]])\n",
    "b = np.array([[4, 3, 9],\n",
    "              [5, 2, 1]])\n",
    "print(a * b)"
   ]
  },
  {
   "cell_type": "markdown",
   "id": "b11df7ee",
   "metadata": {},
   "source": [
    "Zadziałał tutaj mechanizm \"wektoryzacji\": nie wymnażaliśmy odpowiednich elementów obu tablic za pomocą pętli w Pythonie tylko pozostawiliśmy to bibliotece NumPy, gdzie iteracja po odpowiadających sobie elementach tablic jest realizowana w C, zamiast w interpreterze Pythona. Jest to dużo bardziej efektywne!"
   ]
  },
  {
   "cell_type": "markdown",
   "id": "49607a78",
   "metadata": {},
   "source": [
    "Inny przykład - podnoszenie do kwadratu każdego elementu w tablicy:"
   ]
  },
  {
   "cell_type": "code",
   "execution_count": null,
   "id": "36cf130f",
   "metadata": {},
   "outputs": [],
   "source": [
    "M**np.array([2])"
   ]
  },
  {
   "cell_type": "markdown",
   "id": "14d54010",
   "metadata": {},
   "source": [
    "Albo prościej tak:"
   ]
  },
  {
   "cell_type": "code",
   "execution_count": null,
   "id": "14e30da4",
   "metadata": {},
   "outputs": [],
   "source": [
    "M**2"
   ]
  },
  {
   "cell_type": "markdown",
   "id": "016303a2",
   "metadata": {},
   "source": [
    "A teraz jeszcze jeden przykład łączący broadcasting i wektoryzację:"
   ]
  },
  {
   "cell_type": "code",
   "execution_count": null,
   "id": "ff20849c",
   "metadata": {},
   "outputs": [],
   "source": [
    "M - np.array([5]) > np.array([0])"
   ]
  },
  {
   "cell_type": "markdown",
   "id": "4218cb79",
   "metadata": {},
   "source": [
    "Albo prościej tak:"
   ]
  },
  {
   "cell_type": "code",
   "execution_count": null,
   "id": "083e630b",
   "metadata": {},
   "outputs": [],
   "source": [
    "M - 5 > 0"
   ]
  },
  {
   "cell_type": "markdown",
   "id": "045b897a",
   "metadata": {},
   "source": [
    "## Funkcje matematyczne\n",
    "\n",
    "NumPy zawiera realizacje podstawowych funkcji matematycznych, takich jak sin, cos, exp, log. Pozwalają one dokonywać odpowiednich operacji na danych tablicowych element po elemencie."
   ]
  },
  {
   "cell_type": "code",
   "execution_count": null,
   "id": "c264c7fd",
   "metadata": {},
   "outputs": [],
   "source": [
    "X = np.arange(0, 2 * np.pi, 0.1)\n",
    "\n",
    "np.sin(X) + np.cos(X)"
   ]
  },
  {
   "cell_type": "markdown",
   "id": "b64916ec",
   "metadata": {},
   "source": [
    "Sprawdzimy jedynkę trygonometryczną, czyli tożsamość trygonometryczną postaci\n",
    "\n",
    "$$\\sin^2(\\alpha) + \\cos^2(\\alpha) = 1$$"
   ]
  },
  {
   "cell_type": "code",
   "execution_count": null,
   "id": "faac469b",
   "metadata": {},
   "outputs": [],
   "source": [
    "np.sin(X)**2 + np.cos(X)**2"
   ]
  },
  {
   "cell_type": "code",
   "execution_count": null,
   "id": "9de4d229",
   "metadata": {},
   "outputs": [],
   "source": [
    "M.max()"
   ]
  },
  {
   "cell_type": "markdown",
   "id": "66231e34",
   "metadata": {},
   "source": [
    "Albo tak:"
   ]
  },
  {
   "cell_type": "code",
   "execution_count": null,
   "id": "88214b93",
   "metadata": {},
   "outputs": [],
   "source": [
    "np.max(M)"
   ]
  },
  {
   "cell_type": "markdown",
   "id": "0ba7b6dd",
   "metadata": {},
   "source": [
    "Inne przykłady funkcji matematycznych:"
   ]
  },
  {
   "cell_type": "code",
   "execution_count": null,
   "id": "4509db2f",
   "metadata": {},
   "outputs": [],
   "source": [
    "M.min()"
   ]
  },
  {
   "cell_type": "code",
   "execution_count": null,
   "id": "f85a60b8",
   "metadata": {},
   "outputs": [],
   "source": [
    "M.mean()"
   ]
  },
  {
   "cell_type": "code",
   "execution_count": null,
   "id": "6cf1275f",
   "metadata": {},
   "outputs": [],
   "source": [
    "M.std()"
   ]
  },
  {
   "cell_type": "code",
   "execution_count": null,
   "id": "52397775",
   "metadata": {},
   "outputs": [],
   "source": [
    "M.sum()"
   ]
  },
  {
   "cell_type": "markdown",
   "id": "23ed27c7",
   "metadata": {},
   "source": [
    "Funkcje takie jak max, min działają szybko, gdyż korzystają z wektorowej architektury procesora. Takie wektorowe funkcje w NumPy nazywają się [ufunc](https://numpy.org/doc/stable/reference/generated/numpy.frompyfunc.html) (ang. *universal functions*)."
   ]
  },
  {
   "cell_type": "markdown",
   "id": "680fc1bc",
   "metadata": {},
   "source": [
    "Teraz spróbujmy czegoś bardziej złożonego. Za pomocą broadcasting'u i wektoryzacji możemy na przykład szybko policzyć przewidywania modelu regresji logistycznej dla różnych danych wejściowych. Bez zbytniego zagłębiania się w szczegóły, model regresji logistycznej jest postaci\n",
    "\n",
    "$$y(\\mathbf{x}) = \\frac{1}{1+e^{-(\\beta_0 + \\beta_1 x_1 + \\beta_2 x_2 + \\ldots + \\beta_n x_n)}}$$,\n",
    "\n",
    "gdzie $\\beta_i$ dla $i = 0,1,\\ldots,n$ to parametry modelu (zwykle są \"uczone\" bądź \"trenowane\", ale to zagadnienie na inny przedmiot; u nas będą zadane), $\\mathbf{x} = [x_1, x_2, \\ldots, x_n]$ to wektory obserwacji, tj. zaobserwowanych wartości dla zmiennych niezależnych (zwanych też cechami) $x_j$ dla $j = 1,2,\\ldots,n$. Wynikiem jest liczba z przedziału $(0,1)$ interpretowana jako prawdopodobieństwo przynależności obserwacji do jednej wybranej klasy z dwóch możliwych (regresja logistyczna ma zastosowanie w problemach klasyfikacji binarnej; więcej informacji można znaleźć np. [tutaj](https://pl.wikipedia.org/wiki/Regresja_logistyczna)). Przykładowo zmiennymi niezależnymi mogą być różne parametry krwi pacjenta a zmienna zależna określać czy u pacjenta rozwinęła się określona choroba czy nie. W tym przypadku wytrenowany model regresji logistycznej na podstawie parametrów krwi pacjenta mógłby określać prawdopodobieństwo zapadnięcia na daną chorobę.\n",
    "\n",
    "Zobaczmy jak to działa w przypadku n = 2 i zbioru danych wielkości 5:"
   ]
  },
  {
   "cell_type": "code",
   "execution_count": null,
   "id": "e51f938e",
   "metadata": {},
   "outputs": [],
   "source": [
    "# Wartości parametrów modelu regresji logistycznej\n",
    "beta = [0.07,0.34]\n",
    "beta0 = 0.04\n",
    "\n",
    "# Tablica z danymi: wiersze zawierają poszczególne wektory obserwacji, a kolumny zawierają wartości dla\n",
    "# zmiennych niezależnych x_1 i x_2. \n",
    "x = np.array([[0.1,0.4],\n",
    "              [4.2,5.9],\n",
    "              [7.2,8.1],\n",
    "              [7.3,1.1],\n",
    "              [2.3,0.1]]\n",
    "            )\n",
    "print(f\"Liczba zmiennych wejściowych: {x.shape[0]}, liczba obserwacji: {x.shape[1]}\")\n",
    "\n",
    "y = 1/(1 + np.exp( -(x.dot(beta)+beta0) ))\n",
    "y"
   ]
  },
  {
   "cell_type": "markdown",
   "id": "6a60f7ce",
   "metadata": {},
   "source": [
    "I na tym przykładzie (choć dla \"nieco\" większego zbioru danych) możemy zaobserwować jak korzystanie z biblioteki NumPy pozwala przyspieszyć obliczenia:\n",
    "\n",
    "**Uwaga:** Obliczenia mogą zająć dłuższą chwilę (ok. 3 min.)!"
   ]
  },
  {
   "cell_type": "code",
   "execution_count": null,
   "id": "9866cebe",
   "metadata": {},
   "outputs": [],
   "source": [
    "from timeit import timeit\n",
    "\n",
    "dataset_size = 100000\n",
    "number_of_executions = 100\n",
    "\n",
    "x = np.random.standard_normal((dataset_size,2))\n",
    "print(f\"Liczba zmiennych wejściowych: {x.shape[0]}, liczba obserwacji: {x.shape[1]}\")\n",
    "\n",
    "# Korzystamy z wektoryzacji i iloczynu skalarnego w NumPy\n",
    "def logreg_vect():\n",
    "    return 1/(1 + np.exp( -(x.dot(beta)+beta0) ))\n",
    "\n",
    "# timeit w Jupyterze\n",
    "#t_vect= %timeit -o logreg_vect()\n",
    "\n",
    "t_vect = timeit(\"logreg_vect()\", globals=globals(), number=number_of_executions)\n",
    "print(f'Czas obliczeń z wykorzystaniem broadcasting\\'u i wektoryzacji: {t_vect}s')\n",
    "\n",
    "print(\"Liczymy teraz za pomocą pętli for ... prosimy o cierpliwość :)\")\n",
    "\n",
    "def logreg_loop():\n",
    "    # Iterujemy po obserwacjach (wierszach tabeli x) za pomocą pętli for\n",
    "    y_loop = np.zeros(dataset_size) # Alokacja tablicy na wyniki\n",
    "    for i in range(dataset_size):\n",
    "        y_loop[i] = 1/(1 + np.exp( -(x[i,:].dot(beta)+beta0) ))\n",
    "  \n",
    "    return y_loop\n",
    "\n",
    "t_loop = timeit(\"logreg_loop()\", globals=globals(), number=number_of_executions)\n",
    "print(f'Czas obliczeń za pomocą pętli for w Pythonie: {t_loop}s')\n",
    "print(f\"Broadcasting i wektoryzacja dały nam {t_loop/t_vect:.3f}-krotne przyspieszenie w stosunku do pętli for!\")\n",
    "\n",
    "print(\"Liczymy teraz za pomocą list comprehension ... prosimy o cierpliwość :)\")\n",
    "\n",
    "# Korzystamy z list comprehension\n",
    "def logreg_lc():\n",
    "    return [1/(1 + np.exp( -(x[i,:].dot(beta)+beta0) )) for i in range(dataset_size)]\n",
    "\n",
    "t_lc = timeit(\"logreg_lc()\", globals=globals(), number=number_of_executions)\n",
    "print(f'Czas obliczeń za pomocą list comprehension: {t_lc}s')\n",
    "print(f\"Broadcasting i wektoryzacja dały nam {t_lc/t_vect:.3f}-krotne przyspieszenie w stosunku do list comprehension!\")"
   ]
  },
  {
   "cell_type": "markdown",
   "id": "4c3ccabf",
   "metadata": {},
   "source": [
    "Aby przekształcić algorytmy do ich wektorowej wersji, należy zadbać, aby definiowane przez nas funkcje dobrze pracowały z argumentami typu array. Pokażemy to na przykładzie. Zdefiniujmy funkcję skokową Heaviside'a: "
   ]
  },
  {
   "cell_type": "code",
   "execution_count": null,
   "id": "f16c6380",
   "metadata": {},
   "outputs": [],
   "source": [
    "def heaviside(x):\n",
    "    if x >= 0:\n",
    "        return 1\n",
    "    else:\n",
    "        return 0"
   ]
  },
  {
   "cell_type": "markdown",
   "id": "16707ccf",
   "metadata": {},
   "source": [
    "Tak zdefiniowana funkcja nie radzi sobie z argumentem typu `np.array`:"
   ]
  },
  {
   "cell_type": "code",
   "execution_count": null,
   "id": "585b1b69",
   "metadata": {},
   "outputs": [],
   "source": [
    "heaviside(np.array([-1,2,-3,5,7]))"
   ]
  },
  {
   "cell_type": "markdown",
   "id": "45ad076d",
   "metadata": {},
   "source": [
    "Możemy to naprawić, wykorzystując do tego celu funkcję [numpy.vectorize](https://numpy.org/doc/stable/reference/generated/numpy.vectorize.html), która w większości przypadków automatycznie zwektoryzuje naszą funkcję:"
   ]
  },
  {
   "cell_type": "code",
   "execution_count": null,
   "id": "3170b888",
   "metadata": {},
   "outputs": [],
   "source": [
    "heaviside_vec = np.vectorize(heaviside)\n",
    "\n",
    "heaviside_vec(np.array([-1,2,-3,5,7]))"
   ]
  },
  {
   "cell_type": "markdown",
   "id": "2181afb4",
   "metadata": {},
   "source": [
    "lub używając @np.vectorize jako adnotacji do definiowanej funkcji:"
   ]
  },
  {
   "cell_type": "code",
   "execution_count": null,
   "id": "cc9a1796",
   "metadata": {},
   "outputs": [],
   "source": [
    "@np.vectorize\n",
    "def heaviside(x):\n",
    "    if x >= 0:\n",
    "        return 1\n",
    "    else:\n",
    "        return 0\n",
    "\n",
    "heaviside(np.array([-1,2,-3,5,7]))"
   ]
  },
  {
   "cell_type": "markdown",
   "id": "0214b08f",
   "metadata": {},
   "source": [
    "Można to też zrobić \"ręcznie\" - wymaga więcej pracy i pomysłowości, ale za to możemy uzyskać lepszą wydajność niż stosując wektoryzację automatyczną:"
   ]
  },
  {
   "cell_type": "code",
   "execution_count": null,
   "id": "461ac037",
   "metadata": {},
   "outputs": [],
   "source": [
    "def heaviside_vec2(x):\n",
    "    return 1 * (x >= 0)\n",
    "\n",
    "heaviside_vec2(np.array([-1,2,-3,5,7]))"
   ]
  },
  {
   "cell_type": "markdown",
   "id": "466d214b",
   "metadata": {},
   "source": [
    "## Ćwiczenie 2\n",
    "\n",
    "Proszę \"ręcznie\" zwektoryzować poniższy kod:\n",
    "\n",
    "<code>\n",
    "def test_equality(x):\n",
    "    if x**2 + 2*x-1 == (x + 2)*x-1:\n",
    "        return True\n",
    "    else:\n",
    "        return False\n",
    "</code>\n",
    "\n",
    "<code>\n",
    "test_equality(np.linspace(0,1,1000))\n",
    "</code>"
   ]
  },
  {
   "cell_type": "code",
   "execution_count": null,
   "id": "d9c252f1",
   "metadata": {},
   "outputs": [],
   "source": [
    "# Miejsce na rozwiązanie\n"
   ]
  },
  {
   "cell_type": "markdown",
   "id": "377d376c",
   "metadata": {},
   "source": [
    "Poza pewnymi dodatkowymi rzeczami, funkcja np.vectorize wywołuje funkcję [np.frompyfunc](https://numpy.org/doc/stable/reference/generated/numpy.frompyfunc.html#numpy-frompyfunc), która dodaje własności wektoryzacji i broadcasting'u. \n",
    "\n",
    "Dla zainteresowanych: krótko o różnicach między tymi funkcjami można poczytać na [StackOverflow](https://stackoverflow.com/questions/6768245/difference-between-frompyfunc-and-vectorize-in-numpy)."
   ]
  },
  {
   "cell_type": "markdown",
   "id": "de006434",
   "metadata": {},
   "source": [
    "Omówmy jeszcze jedną kwestię. Załóżmy, że mamy daną funkcję dwóch zmiennych $x$ i $y$, np. \n",
    "$$f(x,y) = \\frac{\\sin{(\\sqrt{x^2 + y^2} + 1)}}{\\sqrt{x^2 + y^2} + 1}.$$\n",
    "Chcielibyśmy policzyć wartości tej funkcji na siatce punktów $(x,y)$, gdzie $x,y \\in [-8, -7.5, \\ldots, 8]$. Będzie to np. przydatne później, przy omawianiu wizualizacji w Pythonie. Możemy to zrealizować korzystając w funkcji [numpy.meshgrid](https://numpy.org/doc/stable/reference/generated/numpy.meshgrid.html#numpy.meshgrid). Najpierw jednak zobaczmy jak działa ta funkcja:"
   ]
  },
  {
   "cell_type": "code",
   "execution_count": null,
   "id": "04b25c95",
   "metadata": {},
   "outputs": [],
   "source": [
    "mg = np.meshgrid([1,2,3],[5,6,7])\n",
    "mg"
   ]
  },
  {
   "cell_type": "markdown",
   "id": "d937a185",
   "metadata": {},
   "source": [
    "Zauważmy, że dostaliśmy w wyniku listę dwóch tablic: mg[0] i mg[1] o tych samych wymiarach. Pytanie co to są za tablice?\n",
    "\n",
    "Widzimy, że wiersze mg[0] są takie same, równe [1,2,3]. W przypadku mg[1] kolumny są takie same równe [5,6,7]. Wypiszmy jeszcze pary odpowiadających sobie elementów z obu tablic: "
   ]
  },
  {
   "cell_type": "code",
   "execution_count": null,
   "id": "b30687fe",
   "metadata": {},
   "outputs": [],
   "source": [
    "for i in range(mg[0].shape[0]):\n",
    "    for j in range(mg[0].shape[1]):\n",
    "        print(f\"({mg[0][i,j]},{mg[1][i,j]})\")    "
   ]
  },
  {
   "cell_type": "markdown",
   "id": "e137021b",
   "metadata": {},
   "source": [
    "W wyniku dostaliśmy współrzędne wszystkich punktów naszej siatki! Nasza siatka wygląda tak:\n",
    "\n",
    "(1,5) --- (2,5) --- (3,5)\n",
    "\n",
    "(1,6) --- (2,6) --- (3,6)\n",
    "\n",
    "(1,7) --- (2,7) --- (3,7)\n",
    "\n",
    "Korzystając z funkcji numpy.meshgrid w elegancki sposób możemy rozwiązać nasze zadanie:"
   ]
  },
  {
   "cell_type": "code",
   "execution_count": null,
   "id": "d803e8fa",
   "metadata": {},
   "outputs": [],
   "source": [
    "mg = np.meshgrid(np.arange(-8,8.1,0.5),np.arange(-8,8.1,0.5))\n",
    "F = np.sqrt(mg[0]**2 + mg[1]**2) + 1\n",
    "F = np.sin(F)/F\n",
    "F"
   ]
  },
  {
   "cell_type": "markdown",
   "id": "ab952b3d",
   "metadata": {},
   "source": [
    "A co to za funkcję policzyliśmy? \n",
    "\n",
    "Wyrysowanie tej funkcji pomoże nam udzielić na to pytanie odpowiedzi (w niedalekiej przyszłości dokładniej omówimy kwestie związane z wizualizacją w Pythonie, a na razie chcemy tylko zobaczyć co się nam policzyło w NumPy). Zwróćmy uwagę jak siatka punktów mg zostanie użyta w naszej wizualizacji:"
   ]
  },
  {
   "cell_type": "code",
   "execution_count": null,
   "id": "e1a52324",
   "metadata": {},
   "outputs": [],
   "source": [
    "import matplotlib.pyplot as plt # Importujemy bibliotekę matplotlib do wizualizacji - omówimy ją dokładniej nieco później w ramach naszego kursu.\n",
    "\n",
    "fig = plt.figure()\n",
    "ax = plt.axes(projection='3d')\n",
    "ax.plot_surface(mg[0], mg[1], F)\n",
    "plt.show()"
   ]
  },
  {
   "cell_type": "markdown",
   "id": "6433ff18",
   "metadata": {},
   "source": [
    "## Kilka uwag o zapisywaniu i wczytywaniu danych do/z pliku"
   ]
  },
  {
   "cell_type": "markdown",
   "id": "235f5bdd",
   "metadata": {},
   "source": [
    "Utwórzmy plik tekstowy dane.txt zapisując do niego dwuwymiarową tablicę:"
   ]
  },
  {
   "cell_type": "code",
   "execution_count": null,
   "id": "059a12dc",
   "metadata": {},
   "outputs": [],
   "source": [
    "X = np.array([[ 1, 2 ,3],\n",
    "              [ 4, 5, 6],\n",
    "              [ 7, 8, 9],\n",
    "              [10,11,12]])\n",
    "\n",
    "np.savetxt('dane.txt', X, fmt='%.3e', delimiter=',', newline='\\n', header='')"
   ]
  },
  {
   "cell_type": "markdown",
   "id": "086da28e",
   "metadata": {},
   "source": [
    "Uwaga: X może być co najwyżej tablicą dwuwymiarową. To nie zadziała:"
   ]
  },
  {
   "cell_type": "code",
   "execution_count": null,
   "id": "dffaf6fa",
   "metadata": {},
   "outputs": [],
   "source": [
    "np.savetxt('test.txt', X.reshape((2,3,2)), fmt='%.3e', delimiter=',', newline='\\n', header='')"
   ]
  },
  {
   "cell_type": "markdown",
   "id": "9ac00375",
   "metadata": {},
   "source": [
    "Dane z pliku tekstowego możemy wczytać w następujący sposób:"
   ]
  },
  {
   "cell_type": "code",
   "execution_count": null,
   "id": "588d12ec",
   "metadata": {},
   "outputs": [],
   "source": [
    "data = np.loadtxt('dane.txt', delimiter=',')\n",
    "print(data)"
   ]
  },
  {
   "cell_type": "markdown",
   "id": "0e88ead3",
   "metadata": {},
   "source": [
    "Może się zdarzyć, że w pliku brakuje pewnych wartości:"
   ]
  },
  {
   "cell_type": "code",
   "execution_count": null,
   "id": "69963b59",
   "metadata": {},
   "outputs": [],
   "source": [
    "with open('dane.txt', 'w') as f:\n",
    "    f.write('1, 2,  \\n')\n",
    "    f.write('4,  , 6\\n')\n",
    "    f.write('7, 8, 9\\n')"
   ]
  },
  {
   "cell_type": "markdown",
   "id": "49cba32f",
   "metadata": {},
   "source": [
    "Wówczas możemy wczytać dane w następujący sposób:"
   ]
  },
  {
   "cell_type": "code",
   "execution_count": null,
   "id": "bc261a1c",
   "metadata": {},
   "outputs": [],
   "source": [
    "np.genfromtxt(\"dane.txt\", delimiter=\",\")"
   ]
  },
  {
   "cell_type": "markdown",
   "id": "9895c4e0",
   "metadata": {},
   "source": [
    "albo określając wartość dla brakujących danych, w tym przypadku -1:"
   ]
  },
  {
   "cell_type": "code",
   "execution_count": null,
   "id": "34cafaf5",
   "metadata": {},
   "outputs": [],
   "source": [
    "np.genfromtxt(\"dane.txt\", delimiter=\",\", dtype=np.int8, filling_values=-1)"
   ]
  },
  {
   "cell_type": "markdown",
   "id": "260fd562",
   "metadata": {},
   "source": [
    "Używając funkcji [numpy.save](https://numpy.org/doc/stable/reference/generated/numpy.save.html#numpy.save) możemy zapisywać tablice NumPy do pliku binarnego w formacie [.npy](https://numpy.org/doc/stable/reference/generated/numpy.lib.format.html#module-numpy.lib.format). Funkcja ta pozwala zapisywać tablice o dowolnych wymiarach:"
   ]
  },
  {
   "cell_type": "code",
   "execution_count": null,
   "id": "d76bb6ca",
   "metadata": {},
   "outputs": [],
   "source": [
    "t = np.random.standard_normal((4,3,5))\n",
    "\n",
    "with open('dane.npy', 'wb') as f:\n",
    "    np.save(f, t, allow_pickle=False)\n",
    "    np.save(f, np.array([[1,2,5],[6,8,9]]), allow_pickle=False)"
   ]
  },
  {
   "cell_type": "markdown",
   "id": "33fe136d",
   "metadata": {},
   "source": [
    "Został utworzony plik binarny dane.npy.\n",
    "\n",
    "Moduł pickle pozwala na serializację i deserializację obiektów Pythona. Serializacja (ang. *pickling*) to proces przekształcania obiektu w ciąg bajtów a deserializacja to proces odwrotny. My jednak opcję allow_pickle ustawiliśmy na False, co jest zalecane ze względów bezpieczeństwa. Przy zapisie problemu nie ma, bo wiemy co zapisujemy. Niestety, nie zawsze wiemy co dokładnie wczytujemy, a wczytywanie danych za pomocą modułu pickle umożliwia wykonanie dowolnego kodu. Dlatego może to być niebezpieczne."
   ]
  },
  {
   "cell_type": "markdown",
   "id": "b717cb4d",
   "metadata": {},
   "source": [
    "Za pomocą funkcji [numpy.load](https://numpy.org/doc/stable/reference/generated/numpy.load.html) możemy wczytać nasze dane:"
   ]
  },
  {
   "cell_type": "code",
   "execution_count": null,
   "id": "a8361340",
   "metadata": {},
   "outputs": [],
   "source": [
    "with open('dane.npy', 'rb') as f:\n",
    "    t1 = np.load(f)\n",
    "    t2 = np.load(f)\n",
    "\n",
    "print(t1)\n",
    "print(t2)"
   ]
  },
  {
   "cell_type": "markdown",
   "id": "3f39dbbf",
   "metadata": {},
   "source": [
    "Opcja allow_pickle jest domyślnie ustawiona na False, więc jesteśmy bezpieczni."
   ]
  },
  {
   "cell_type": "markdown",
   "id": "25efaea0",
   "metadata": {},
   "source": [
    "Moża też za jednym razem zapisać słownik tablic za pomocą funkcji [numpy.savez](https://numpy.org/doc/stable/reference/generated/numpy.savez.html#numpy.savez) lub [numpy.savez_compressed](https://numpy.org/doc/stable/reference/generated/numpy.savez_compressed.html#numpy.savez_compressed):"
   ]
  },
  {
   "cell_type": "code",
   "execution_count": null,
   "id": "92bc0dae",
   "metadata": {},
   "outputs": [],
   "source": [
    "t1 = np.random.standard_normal((4,3,5))\n",
    "t2 = np.random.standard_normal((4,3))\n",
    "t3 = np.random.standard_normal((3,5))\n",
    "\n",
    "table_dict = {'a':t1, 'b':t2, 'c':t3}\n",
    "\n",
    "#np.savez('tablice.npz', **table_dict)\n",
    "np.savez_compressed('tablice.npz', **table_dict)"
   ]
  },
  {
   "cell_type": "code",
   "execution_count": null,
   "id": "29a2a840",
   "metadata": {},
   "outputs": [],
   "source": [
    "ts = np.load('tablice.npz')\n",
    "    \n",
    "ts.files"
   ]
  },
  {
   "cell_type": "code",
   "execution_count": null,
   "id": "64db278a",
   "metadata": {},
   "outputs": [],
   "source": [
    "ts['a']"
   ]
  },
  {
   "cell_type": "code",
   "execution_count": null,
   "id": "79cf4a4d",
   "metadata": {},
   "outputs": [],
   "source": []
  }
 ],
 "metadata": {
  "kernelspec": {
   "display_name": "Python 3 (ipykernel)",
   "language": "python",
   "name": "python3"
  },
  "language_info": {
   "codemirror_mode": {
    "name": "ipython",
    "version": 3
   },
   "file_extension": ".py",
   "mimetype": "text/x-python",
   "name": "python",
   "nbconvert_exporter": "python",
   "pygments_lexer": "ipython3",
   "version": "3.11.9"
  }
 },
 "nbformat": 4,
 "nbformat_minor": 5
}
