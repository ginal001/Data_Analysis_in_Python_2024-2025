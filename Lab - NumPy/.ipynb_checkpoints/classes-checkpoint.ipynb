{
 "cells": [
  {
   "cell_type": "markdown",
   "metadata": {
    "collapsed": true,
    "jupyter": {
     "outputs_hidden": true
    }
   },
   "source": [
    "This notebook contain exercises for classes copied form readme."
   ]
  },
  {
   "cell_type": "code",
   "execution_count": 1,
   "metadata": {},
   "outputs": [],
   "source": [
    "import numpy as np\n",
    "import pandas as pd"
   ]
  },
  {
   "cell_type": "markdown",
   "metadata": {},
   "source": [
    "## Exercise 1 \n",
    "\n",
    "Fix the code, so that all ``assert`` pass."
   ]
  },
  {
   "cell_type": "code",
   "execution_count": 2,
   "metadata": {},
   "outputs": [],
   "source": [
    "arr1 = np.array([100 for _ in range (0,10)])\n",
    "arr2 = np.array([156 for _ in range (0, 10)])\n",
    "\n",
    "assert len(arr1) == 10\n",
    "assert len(arr2) == 10\n",
    "assert np.all(arr1 == 100)\n",
    "assert np.all(arr2 == 156)\n",
    "\n",
    "arr2 = arr2 - 256\n",
    "\n",
    "assert np.all(arr1 + arr2 == 0)"
   ]
  },
  {
   "cell_type": "markdown",
   "metadata": {},
   "source": [
    "## Exercise 2\n",
    "\n",
    "Load data from ``data/sample.csv``; calculate mean, median and std for each column separately.\n",
    "Solve this using numpy and without numpy (or pandas etc.)\n",
    "\n",
    "Measure the time of it execution (using ``%time`` magic or ``time()`` function from ``time`` module) for each case."
   ]
  },
  {
   "cell_type": "code",
   "execution_count": 3,
   "metadata": {},
   "outputs": [],
   "source": [
    "import csv"
   ]
  },
  {
   "cell_type": "code",
   "execution_count": 4,
   "metadata": {},
   "outputs": [
    {
     "name": "stdout",
     "output_type": "stream",
     "text": [
      ".\n",
      "CPU times: total: 0 ns\n",
      "Wall time: 0 ns\n"
     ]
    }
   ],
   "source": [
    "%%time\n",
    "print(\".\")"
   ]
  },
  {
   "cell_type": "markdown",
   "metadata": {},
   "source": [
    "## Exercise 3\n",
    "\n",
    "Load data from ``data/ex3_data.npy`` and filter out rows with ``nan`` values.\n",
    "Report how many rows are dropped during filtration, globally and how many ``nan`` are in each column."
   ]
  },
  {
   "cell_type": "code",
   "execution_count": 5,
   "metadata": {},
   "outputs": [
    {
     "data": {
      "text/plain": [
       "(200, 4)"
      ]
     },
     "execution_count": 5,
     "metadata": {},
     "output_type": "execute_result"
    }
   ],
   "source": [
    "data = np.load(\"data/ex3_data.npy\")\n",
    "data.shape"
   ]
  },
  {
   "cell_type": "code",
   "execution_count": 6,
   "metadata": {},
   "outputs": [],
   "source": [
    "original_rows = data.shape[0]\n",
    "nan_rows_mask = np.isnan(data).any(axis=1)\n",
    "rows_with_nan = np.sum(nan_rows_mask)\n",
    "rows_after_filter = original_rows - rows_with_nan\n",
    "\n",
    "nan_per_column = np.isnan(data).sum(axis=0)"
   ]
  },
  {
   "cell_type": "code",
   "execution_count": 7,
   "metadata": {},
   "outputs": [
    {
     "name": "stdout",
     "output_type": "stream",
     "text": [
      "Dropped rows:  190\n",
      "NaN in each column:  [3 3 4 1]\n"
     ]
    }
   ],
   "source": [
    "print(\"Dropped rows: \", rows_after_filter)\n",
    "print(\"NaN in each column: \", nan_per_column)"
   ]
  },
  {
   "cell_type": "markdown",
   "metadata": {},
   "source": [
    "## Exercise 4\n",
    "\n",
    "Load data from ``data/iris.csv`` using ``loadtxt`` from ``numpy``. \n",
    "Skip header and name columns.\n",
    "For each column calculate: `mean`, `median` and `std` using `axis` parameter."
   ]
  },
  {
   "cell_type": "code",
   "execution_count": 8,
   "metadata": {},
   "outputs": [
    {
     "data": {
      "text/html": [
       "<div>\n",
       "<style scoped>\n",
       "    .dataframe tbody tr th:only-of-type {\n",
       "        vertical-align: middle;\n",
       "    }\n",
       "\n",
       "    .dataframe tbody tr th {\n",
       "        vertical-align: top;\n",
       "    }\n",
       "\n",
       "    .dataframe thead th {\n",
       "        text-align: right;\n",
       "    }\n",
       "</style>\n",
       "<table border=\"1\" class=\"dataframe\">\n",
       "  <thead>\n",
       "    <tr style=\"text-align: right;\">\n",
       "      <th></th>\n",
       "      <th>sepal.length</th>\n",
       "      <th>sepal.width</th>\n",
       "      <th>petal.length</th>\n",
       "      <th>petal.width</th>\n",
       "      <th>variety</th>\n",
       "    </tr>\n",
       "  </thead>\n",
       "  <tbody>\n",
       "    <tr>\n",
       "      <th>0</th>\n",
       "      <td>5.1</td>\n",
       "      <td>3.5</td>\n",
       "      <td>1.4</td>\n",
       "      <td>0.2</td>\n",
       "      <td>Setosa</td>\n",
       "    </tr>\n",
       "    <tr>\n",
       "      <th>1</th>\n",
       "      <td>4.9</td>\n",
       "      <td>3.0</td>\n",
       "      <td>1.4</td>\n",
       "      <td>0.2</td>\n",
       "      <td>Setosa</td>\n",
       "    </tr>\n",
       "    <tr>\n",
       "      <th>2</th>\n",
       "      <td>4.7</td>\n",
       "      <td>3.2</td>\n",
       "      <td>1.3</td>\n",
       "      <td>0.2</td>\n",
       "      <td>Setosa</td>\n",
       "    </tr>\n",
       "    <tr>\n",
       "      <th>3</th>\n",
       "      <td>4.6</td>\n",
       "      <td>3.1</td>\n",
       "      <td>1.5</td>\n",
       "      <td>0.2</td>\n",
       "      <td>Setosa</td>\n",
       "    </tr>\n",
       "    <tr>\n",
       "      <th>4</th>\n",
       "      <td>5.0</td>\n",
       "      <td>3.6</td>\n",
       "      <td>1.4</td>\n",
       "      <td>0.2</td>\n",
       "      <td>Setosa</td>\n",
       "    </tr>\n",
       "    <tr>\n",
       "      <th>...</th>\n",
       "      <td>...</td>\n",
       "      <td>...</td>\n",
       "      <td>...</td>\n",
       "      <td>...</td>\n",
       "      <td>...</td>\n",
       "    </tr>\n",
       "    <tr>\n",
       "      <th>145</th>\n",
       "      <td>6.7</td>\n",
       "      <td>3.0</td>\n",
       "      <td>5.2</td>\n",
       "      <td>2.3</td>\n",
       "      <td>Virginica</td>\n",
       "    </tr>\n",
       "    <tr>\n",
       "      <th>146</th>\n",
       "      <td>6.3</td>\n",
       "      <td>2.5</td>\n",
       "      <td>5.0</td>\n",
       "      <td>1.9</td>\n",
       "      <td>Virginica</td>\n",
       "    </tr>\n",
       "    <tr>\n",
       "      <th>147</th>\n",
       "      <td>6.5</td>\n",
       "      <td>3.0</td>\n",
       "      <td>5.2</td>\n",
       "      <td>2.0</td>\n",
       "      <td>Virginica</td>\n",
       "    </tr>\n",
       "    <tr>\n",
       "      <th>148</th>\n",
       "      <td>6.2</td>\n",
       "      <td>3.4</td>\n",
       "      <td>5.4</td>\n",
       "      <td>2.3</td>\n",
       "      <td>Virginica</td>\n",
       "    </tr>\n",
       "    <tr>\n",
       "      <th>149</th>\n",
       "      <td>5.9</td>\n",
       "      <td>3.0</td>\n",
       "      <td>5.1</td>\n",
       "      <td>1.8</td>\n",
       "      <td>Virginica</td>\n",
       "    </tr>\n",
       "  </tbody>\n",
       "</table>\n",
       "<p>150 rows × 5 columns</p>\n",
       "</div>"
      ],
      "text/plain": [
       "     sepal.length  sepal.width  petal.length  petal.width    variety\n",
       "0             5.1          3.5           1.4          0.2     Setosa\n",
       "1             4.9          3.0           1.4          0.2     Setosa\n",
       "2             4.7          3.2           1.3          0.2     Setosa\n",
       "3             4.6          3.1           1.5          0.2     Setosa\n",
       "4             5.0          3.6           1.4          0.2     Setosa\n",
       "..            ...          ...           ...          ...        ...\n",
       "145           6.7          3.0           5.2          2.3  Virginica\n",
       "146           6.3          2.5           5.0          1.9  Virginica\n",
       "147           6.5          3.0           5.2          2.0  Virginica\n",
       "148           6.2          3.4           5.4          2.3  Virginica\n",
       "149           5.9          3.0           5.1          1.8  Virginica\n",
       "\n",
       "[150 rows x 5 columns]"
      ]
     },
     "execution_count": 8,
     "metadata": {},
     "output_type": "execute_result"
    }
   ],
   "source": [
    "data_pd = pd.read_csv(\"./data/iris.csv\")\n",
    "\n",
    "data_pd"
   ]
  },
  {
   "cell_type": "code",
   "execution_count": 9,
   "metadata": {},
   "outputs": [],
   "source": [
    "data_np = np.loadtxt(\"./data/iris.csv\", delimiter=\",\",  usecols=(0,1,2,3), skiprows=1)\n",
    "\n",
    "means = np.mean(data_np, axis=0)\n",
    "medians = np.median(data_np, axis=0)\n",
    "stds = np.std(data_np, axis=0)"
   ]
  },
  {
   "cell_type": "code",
   "execution_count": 10,
   "metadata": {},
   "outputs": [
    {
     "name": "stdout",
     "output_type": "stream",
     "text": [
      "Means: [5.84333333 3.05733333 3.758      1.19933333]\n",
      "Medians:  [5.8  3.   4.35 1.3 ]\n",
      "Stds:  [0.82530129 0.43441097 1.75940407 0.75969263]\n"
     ]
    }
   ],
   "source": [
    "print(\"Means:\", means)\n",
    "print(\"Medians: \", medians)\n",
    "print(\"Stds: \",  stds)"
   ]
  },
  {
   "cell_type": "markdown",
   "metadata": {},
   "source": [
    "## Exercise 5\n",
    "\n",
    "Load data from ``data/sample_treated.npz``. \n",
    "Assume that each row of the ``outputs`` array contains information about the size of some structure traced in time.\n",
    "We would like to know which object grows doubles its size during observation.\n"
   ]
  },
  {
   "cell_type": "markdown",
   "metadata": {},
   "source": [
    "Firstly, we are going to read our data."
   ]
  },
  {
   "cell_type": "code",
   "execution_count": 11,
   "metadata": {},
   "outputs": [],
   "source": [
    "data = np.load('data/sample_treated.npz')\n",
    "outputs = data[\"outputs\"]"
   ]
  },
  {
   "cell_type": "code",
   "execution_count": 12,
   "metadata": {},
   "outputs": [
    {
     "data": {
      "text/plain": [
       "(1000, 200)"
      ]
     },
     "execution_count": 12,
     "metadata": {},
     "output_type": "execute_result"
    }
   ],
   "source": [
    "outputs.shape"
   ]
  },
  {
   "cell_type": "markdown",
   "metadata": {},
   "source": [
    "Let's find max in each column and then let's check if it is larger than doubled initial value."
   ]
  },
  {
   "cell_type": "code",
   "execution_count": 13,
   "metadata": {},
   "outputs": [],
   "source": [
    "max_in_row = outputs.max(axis = 1)\n",
    "initial = outputs[:,0]"
   ]
  },
  {
   "cell_type": "code",
   "execution_count": 14,
   "metadata": {},
   "outputs": [],
   "source": [
    "doubles_its_size = max_in_row > 2*initial\n",
    "double_its_size_idxs  = np.nonzero(doubles_its_size)"
   ]
  },
  {
   "cell_type": "markdown",
   "metadata": {},
   "source": [
    "Let's print all the indices on which observed size doubled its value."
   ]
  },
  {
   "cell_type": "code",
   "execution_count": 15,
   "metadata": {},
   "outputs": [
    {
     "name": "stdout",
     "output_type": "stream",
     "text": [
      "(array([  2,   6,   8,  11,  15,  16,  17,  20,  21,  26,  30,  33,  34,\n",
      "        36,  39,  44,  47,  53,  55,  57,  59,  60,  63,  66,  67,  70,\n",
      "        71,  74,  77,  81,  82,  83,  87,  89,  90,  91,  92,  96, 101,\n",
      "       106, 113, 119, 123, 124, 126, 130, 135, 137, 139, 142, 143, 144,\n",
      "       147, 148, 156, 159, 160, 165, 167, 173, 175, 177, 190, 192, 195,\n",
      "       199, 203, 209, 211, 215, 216, 224, 226, 227, 231, 234, 236, 237,\n",
      "       239, 247, 249, 251, 252, 253, 254, 255, 260, 262, 263, 269, 276,\n",
      "       277, 279, 287, 290, 291, 296, 304, 311, 313, 314, 318, 326, 327,\n",
      "       330, 331, 332, 333, 334, 335, 336, 356, 357, 358, 359, 364, 366,\n",
      "       368, 369, 371, 376, 378, 382, 385, 388, 392, 395, 398, 405, 407,\n",
      "       408, 421, 423, 425, 427, 432, 437, 447, 449, 456, 457, 462, 465,\n",
      "       467, 470, 471, 480, 483, 485, 493, 499, 501, 503, 510, 511, 512,\n",
      "       513, 516, 518, 520, 524, 527, 532, 536, 541, 544, 548, 549, 550,\n",
      "       569, 574, 575, 579, 581, 585, 594, 598, 599, 604, 608, 609, 612,\n",
      "       616, 617, 618, 635, 636, 640, 641, 648, 649, 651, 652, 653, 658,\n",
      "       665, 667, 668, 669, 671, 678, 681, 684, 685, 687, 688, 693, 698,\n",
      "       699, 700, 706, 708, 716, 719, 728, 734, 735, 739, 741, 743, 744,\n",
      "       745, 746, 754, 756, 758, 759, 761, 766, 768, 771, 772, 774, 778,\n",
      "       783, 788, 789, 790, 791, 795, 796, 800, 802, 804, 811, 812, 814,\n",
      "       815, 820, 824, 827, 829, 834, 835, 836, 837, 840, 846, 847, 848,\n",
      "       849, 861, 863, 864, 865, 867, 869, 870, 871, 879, 885, 891, 893,\n",
      "       894, 895, 896, 899, 902, 907, 919, 924, 931, 932, 937, 940, 942,\n",
      "       952, 961, 965, 971, 972, 973, 974, 979, 984, 985, 986, 987, 990,\n",
      "       992, 998], dtype=int64),)\n"
     ]
    }
   ],
   "source": [
    "print(double_its_size_idxs)"
   ]
  }
 ],
 "metadata": {
  "kernelspec": {
   "display_name": "Python 3 (ipykernel)",
   "language": "python",
   "name": "python3"
  },
  "language_info": {
   "codemirror_mode": {
    "name": "ipython",
    "version": 3
   },
   "file_extension": ".py",
   "mimetype": "text/x-python",
   "name": "python",
   "nbconvert_exporter": "python",
   "pygments_lexer": "ipython3",
   "version": "3.11.9"
  }
 },
 "nbformat": 4,
 "nbformat_minor": 4
}
